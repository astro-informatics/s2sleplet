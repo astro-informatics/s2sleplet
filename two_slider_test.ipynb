{
 "cells": [
  {
   "cell_type": "code",
   "execution_count": 23,
   "metadata": {},
   "outputs": [],
   "source": [
    "import plotly.offline as py\n",
    "import pandas as pd\n",
    "import json\n",
    "import numpy as np\n",
    "\n",
    "try:\n",
    "    # Python 2\n",
    "    from itertools import izip\n",
    "except ImportError:\n",
    "        # Python 3\n",
    "        izip = zip\n",
    "\n",
    "df = pd.read_csv('https://raw.githubusercontent.com/plotly/datasets/master/globe_contours.csv')\n",
    "df.head()\n",
    "\n",
    "contours = []\n",
    "\n",
    "scl = ['rgb(213,62,79)','rgb(244,109,67)','rgb(253,174,97)',\\\n",
    "       'rgb(254,224,139)','rgb(255,255,191)','rgb(230,245,152)',\\\n",
    "       'rgb(171,221,164)','rgb(102,194,165)','rgb(50,136,189)']\n",
    "\n",
    "def pairwise(iterable):\n",
    "    a = iter(iterable)\n",
    "    return izip(a, a)\n",
    "\n",
    "i=0\n",
    "for lat, lon in pairwise(df.columns):\n",
    "    contours.append( dict(\n",
    "        type = 'scattergeo',\n",
    "        lon = df[lon],\n",
    "        lat = df[lat],\n",
    "        mode = 'lines',\n",
    "        line = dict(\n",
    "            width = 2,\n",
    "            color = scl[i]\n",
    "        )\n",
    "    ) )\n",
    "    i = 0 if i+1 >= len(df.columns)/4 else i+1"
   ]
  },
  {
   "cell_type": "code",
   "execution_count": 24,
   "metadata": {},
   "outputs": [],
   "source": [
    "layout = dict(\n",
    "        margin = dict( t = 0, l = 0, r = 0, b = 0 ),\n",
    "        showlegend = False,         \n",
    "        geo = dict(\n",
    "            showland = True,\n",
    "            showlakes = True,\n",
    "            showcountries = True,\n",
    "            showocean = True,\n",
    "            countrywidth = 0.5,\n",
    "            landcolor = 'rgb(230, 145, 56)',\n",
    "            lakecolor = 'rgb(0, 255, 255)',\n",
    "            oceancolor = 'rgb(0, 255, 255)',\n",
    "            projection = dict( \n",
    "                type = 'orthographic',\n",
    "                rotation = dict(lon = 0, lat = 0, roll = 0 )            \n",
    "            ),\n",
    "            lonaxis = dict( \n",
    "                showgrid = True,\n",
    "                gridcolor = 'rgb(102, 102, 102)',\n",
    "                gridwidth = 0.5\n",
    "            ),\n",
    "            lataxis = dict( \n",
    "                showgrid = True,\n",
    "                gridcolor = 'rgb(102, 102, 102)',\n",
    "                gridwidth = 0.5\n",
    "            )\n",
    "        )\n",
    "    )\n",
    "\n",
    "sliders = []\n",
    "\n",
    "lon_range = np.arange(-180, 180, 10)\n",
    "lat_range = np.arange(-90, 90, 10)"
   ]
  },
  {
   "cell_type": "code",
   "execution_count": 25,
   "metadata": {},
   "outputs": [],
   "source": [
    "sliders.append( \n",
    "    dict(\n",
    "        active = len(lon_range)/2,\n",
    "        currentvalue = {\"prefix\": \"Longitude: \"},\n",
    "        pad = {\"t\": 0},\n",
    "        steps = [{\n",
    "                'method':'relayout', \n",
    "                'label':str(i),\n",
    "                'args':['geo.projection.rotation.lon', i]} for i in lon_range]\n",
    "    )      \n",
    ")"
   ]
  },
  {
   "cell_type": "code",
   "execution_count": 26,
   "metadata": {},
   "outputs": [],
   "source": [
    "sliders.append( \n",
    "    dict(\n",
    "        active = len(lat_range)/2,\n",
    "        currentvalue = {\"prefix\": \"Latitude: \"},\n",
    "        pad = {\"t\": 100},\n",
    "        steps = [{\n",
    "                'method':'relayout', \n",
    "                'label':str(i),\n",
    "                'args':['geo.projection.rotation.lat', i]} for i in lat_range]\n",
    "    )      \n",
    ")"
   ]
  },
  {
   "cell_type": "code",
   "execution_count": 27,
   "metadata": {},
   "outputs": [],
   "source": [
    "projections = [ \"equirectangular\", \"mercator\", \"orthographic\", \"natural earth\",\"kavrayskiy7\", \n",
    "               \"miller\", \"robinson\", \"eckert4\", \"azimuthal equal area\",\"azimuthal equidistant\", \n",
    "               \"conic equal area\", \"conic conformal\", \"conic equidistant\", \"gnomonic\", \"stereographic\", \n",
    "               \"mollweide\", \"hammer\", \"transverse mercator\", \"albers usa\", \"winkel tripel\" ]\n",
    "\n",
    "buttons = [ dict( args=['geo.projection.type', p], label=p, method='relayout' ) for p in projections ]\n",
    "\n",
    "annot = list([ dict( x=0.1, y=0.8, text='Projection', yanchor='bottom', \n",
    "                    xref='paper', xanchor='right', showarrow=False )])\n",
    "\n",
    "# Update Layout Object\n",
    "\n",
    "layout[ 'updatemenus' ] = list([ dict( x=0.1, y=0.8, buttons=buttons, yanchor='top' )])\n",
    "\n",
    "layout[ 'annotations' ] = annot\n",
    "\n",
    "layout[ 'sliders' ] = sliders"
   ]
  },
  {
   "cell_type": "code",
   "execution_count": 29,
   "metadata": {},
   "outputs": [
    {
     "data": {
      "text/plain": [
       "'file:///Users/paddy/temp-plot.html'"
      ]
     },
     "execution_count": 29,
     "metadata": {},
     "output_type": "execute_result"
    }
   ],
   "source": [
    "fig = dict( data=contours, layout=layout )\n",
    "py.plot( fig )"
   ]
  },
  {
   "cell_type": "code",
   "execution_count": 30,
   "metadata": {},
   "outputs": [],
   "source": [
    "steps = [{\n",
    "                'method':'relayout', \n",
    "                'label':str(i),\n",
    "                'args':['geo.projection.rotation.lat', i]} for i in lat_range]"
   ]
  },
  {
   "cell_type": "code",
   "execution_count": 31,
   "metadata": {},
   "outputs": [
    {
     "data": {
      "text/plain": [
       "[{'method': 'relayout',\n",
       "  'label': '-90',\n",
       "  'args': ['geo.projection.rotation.lat', -90]},\n",
       " {'method': 'relayout',\n",
       "  'label': '-80',\n",
       "  'args': ['geo.projection.rotation.lat', -80]},\n",
       " {'method': 'relayout',\n",
       "  'label': '-70',\n",
       "  'args': ['geo.projection.rotation.lat', -70]},\n",
       " {'method': 'relayout',\n",
       "  'label': '-60',\n",
       "  'args': ['geo.projection.rotation.lat', -60]},\n",
       " {'method': 'relayout',\n",
       "  'label': '-50',\n",
       "  'args': ['geo.projection.rotation.lat', -50]},\n",
       " {'method': 'relayout',\n",
       "  'label': '-40',\n",
       "  'args': ['geo.projection.rotation.lat', -40]},\n",
       " {'method': 'relayout',\n",
       "  'label': '-30',\n",
       "  'args': ['geo.projection.rotation.lat', -30]},\n",
       " {'method': 'relayout',\n",
       "  'label': '-20',\n",
       "  'args': ['geo.projection.rotation.lat', -20]},\n",
       " {'method': 'relayout',\n",
       "  'label': '-10',\n",
       "  'args': ['geo.projection.rotation.lat', -10]},\n",
       " {'method': 'relayout',\n",
       "  'label': '0',\n",
       "  'args': ['geo.projection.rotation.lat', 0]},\n",
       " {'method': 'relayout',\n",
       "  'label': '10',\n",
       "  'args': ['geo.projection.rotation.lat', 10]},\n",
       " {'method': 'relayout',\n",
       "  'label': '20',\n",
       "  'args': ['geo.projection.rotation.lat', 20]},\n",
       " {'method': 'relayout',\n",
       "  'label': '30',\n",
       "  'args': ['geo.projection.rotation.lat', 30]},\n",
       " {'method': 'relayout',\n",
       "  'label': '40',\n",
       "  'args': ['geo.projection.rotation.lat', 40]},\n",
       " {'method': 'relayout',\n",
       "  'label': '50',\n",
       "  'args': ['geo.projection.rotation.lat', 50]},\n",
       " {'method': 'relayout',\n",
       "  'label': '60',\n",
       "  'args': ['geo.projection.rotation.lat', 60]},\n",
       " {'method': 'relayout',\n",
       "  'label': '70',\n",
       "  'args': ['geo.projection.rotation.lat', 70]},\n",
       " {'method': 'relayout',\n",
       "  'label': '80',\n",
       "  'args': ['geo.projection.rotation.lat', 80]}]"
      ]
     },
     "execution_count": 31,
     "metadata": {},
     "output_type": "execute_result"
    }
   ],
   "source": [
    "steps"
   ]
  },
  {
   "cell_type": "code",
   "execution_count": null,
   "metadata": {},
   "outputs": [],
   "source": []
  }
 ],
 "metadata": {
  "kernelspec": {
   "display_name": "Python 3",
   "language": "python",
   "name": "python3"
  },
  "language_info": {
   "codemirror_mode": {
    "name": "ipython",
    "version": 3
   },
   "file_extension": ".py",
   "mimetype": "text/x-python",
   "name": "python",
   "nbconvert_exporter": "python",
   "pygments_lexer": "ipython3",
   "version": "3.6.6"
  }
 },
 "nbformat": 4,
 "nbformat_minor": 2
}
